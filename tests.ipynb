{
 "cells": [
  {
   "cell_type": "code",
   "execution_count": 1,
   "metadata": {},
   "outputs": [],
   "source": [
    "import requests\n",
    "from dotenv import load_dotenv\n",
    "import os\n",
    "import json\n",
    "import pandas as pd\n",
    "from datetime import datetime\n",
    "\n",
    "from notionDAO import read_data, create_page, update_page, delete_page, listacompradata"
   ]
  },
  {
   "cell_type": "code",
   "execution_count": 2,
   "metadata": {},
   "outputs": [],
   "source": [
    "load_dotenv(\"env\")\n",
    "NOTION_SECRET = os.getenv('notion_secret')\n",
    "CAL_ID = os.getenv('calendario_id')\n",
    "LDC_ID = os.getenv('lista_de_compra_id')"
   ]
  },
  {
   "cell_type": "code",
   "execution_count": 3,
   "metadata": {},
   "outputs": [],
   "source": [
    "data_comidas = read_data(NOTION_SECRET, CAL_ID, dump_json=True)"
   ]
  },
  {
   "cell_type": "code",
   "execution_count": 9,
   "metadata": {},
   "outputs": [
    {
     "data": {
      "text/plain": [
       "[{'id': 'f232d9f2-a59c-4bb5-9148-5a571ec4dae7',\n",
       "  'name': 'Bacon',\n",
       "  'color': 'yellow'},\n",
       " {'id': '52a29e41-d634-4d58-a598-663ae33a7c11',\n",
       "  'name': 'Atún',\n",
       "  'color': 'purple'}]"
      ]
     },
     "execution_count": 9,
     "metadata": {},
     "output_type": "execute_result"
    }
   ],
   "source": [
    "data_comidas[0]['properties']['Ingredientes']['rollup']['array'][0]['multi_select']"
   ]
  },
  {
   "cell_type": "code",
   "execution_count": 17,
   "metadata": {},
   "outputs": [
    {
     "name": "stdout",
     "output_type": "stream",
     "text": [
      "['Bacon', 'Espagueti', 'Atún', 'Queso', 'Huevos', 'Macarrones']\n"
     ]
    }
   ],
   "source": [
    "data_comidas = read_data(NOTION_SECRET, CAL_ID)\n",
    "\n",
    "lista_ingredientes = list()\n",
    "for page in data_comidas:\n",
    "    if page['properties']['Ingredientes']['rollup']['array']:\n",
    "        # rezaré porque el 0 del array sea siempre 0, en principio debería interarse pero \n",
    "        # las relaciones son únicas\n",
    "        for ing in page['properties']['Ingredientes']['rollup']['array'][0]['multi_select']:\n",
    "            lista_ingredientes.append(ing['name'])\n",
    "    for extra_ing in page['properties']['Ingredientes adicionales']['multi_select']:\n",
    "        lista_ingredientes.append(extra_ing['name'])\n",
    "\n",
    "print(list(set(lista_ingredientes)))\n"
   ]
  },
  {
   "cell_type": "code",
   "execution_count": 10,
   "metadata": {},
   "outputs": [
    {
     "name": "stdout",
     "output_type": "stream",
     "text": [
      "200\n"
     ]
    }
   ],
   "source": [
    "for i in lista_ingredientes:\n",
    "    create_page(\n",
    "        NOTION_SECRET,\n",
    "        LDC_ID,\n",
    "        listacompradata(i)\n",
    "    )"
   ]
  },
  {
   "cell_type": "code",
   "execution_count": 19,
   "metadata": {},
   "outputs": [],
   "source": [
    "\n",
    "test = read_data(NOTION_SECRET, LDC_ID, dump_json=True)"
   ]
  },
  {
   "cell_type": "code",
   "execution_count": 14,
   "metadata": {},
   "outputs": [
    {
     "data": {
      "text/plain": [
       "[{'object': 'page',\n",
       "  'id': 'f9362a47-4c7d-4efb-a00a-8559387e8c94',\n",
       "  'created_time': '2024-05-19T20:03:00.000Z',\n",
       "  'last_edited_time': '2024-05-19T20:03:00.000Z',\n",
       "  'created_by': {'object': 'user',\n",
       "   'id': 'dd5d9cf3-cf62-4ac1-92e2-494fe9963b68'},\n",
       "  'last_edited_by': {'object': 'user',\n",
       "   'id': 'dd5d9cf3-cf62-4ac1-92e2-494fe9963b68'},\n",
       "  'cover': None,\n",
       "  'icon': None,\n",
       "  'parent': {'type': 'database_id',\n",
       "   'database_id': 'a6f4c95f-d341-444f-a129-790761c285ab'},\n",
       "  'archived': False,\n",
       "  'in_trash': False,\n",
       "  'properties': {'Comprado': {'id': 'rGpQ',\n",
       "    'type': 'checkbox',\n",
       "    'checkbox': False},\n",
       "   'Ingrediente': {'id': 'title',\n",
       "    'type': 'title',\n",
       "    'title': [{'type': 'text',\n",
       "      'text': {'content': 'embutido', 'link': None},\n",
       "      'annotations': {'bold': False,\n",
       "       'italic': False,\n",
       "       'strikethrough': False,\n",
       "       'underline': False,\n",
       "       'code': False,\n",
       "       'color': 'default'},\n",
       "      'plain_text': 'embutido',\n",
       "      'href': None}]}},\n",
       "  'url': 'https://www.notion.so/embutido-f9362a474c7d4efba00a8559387e8c94',\n",
       "  'public_url': None},\n",
       " {'object': 'page',\n",
       "  'id': '1e88f8a0-47c2-466d-a984-8efef515771b',\n",
       "  'created_time': '2024-05-19T20:03:00.000Z',\n",
       "  'last_edited_time': '2024-05-19T20:03:00.000Z',\n",
       "  'created_by': {'object': 'user',\n",
       "   'id': 'dd5d9cf3-cf62-4ac1-92e2-494fe9963b68'},\n",
       "  'last_edited_by': {'object': 'user',\n",
       "   'id': 'dd5d9cf3-cf62-4ac1-92e2-494fe9963b68'},\n",
       "  'cover': None,\n",
       "  'icon': None,\n",
       "  'parent': {'type': 'database_id',\n",
       "   'database_id': 'a6f4c95f-d341-444f-a129-790761c285ab'},\n",
       "  'archived': False,\n",
       "  'in_trash': False,\n",
       "  'properties': {'Comprado': {'id': 'rGpQ',\n",
       "    'type': 'checkbox',\n",
       "    'checkbox': False},\n",
       "   'Ingrediente': {'id': 'title',\n",
       "    'type': 'title',\n",
       "    'title': [{'type': 'text',\n",
       "      'text': {'content': 'Tomate', 'link': None},\n",
       "      'annotations': {'bold': False,\n",
       "       'italic': False,\n",
       "       'strikethrough': False,\n",
       "       'underline': False,\n",
       "       'code': False,\n",
       "       'color': 'default'},\n",
       "      'plain_text': 'Tomate',\n",
       "      'href': None}]}},\n",
       "  'url': 'https://www.notion.so/Tomate-1e88f8a047c2466da9848efef515771b',\n",
       "  'public_url': None},\n",
       " {'object': 'page',\n",
       "  'id': '138d75d3-9752-41f4-b3b4-c822165ece43',\n",
       "  'created_time': '2024-05-19T20:03:00.000Z',\n",
       "  'last_edited_time': '2024-05-19T20:03:00.000Z',\n",
       "  'created_by': {'object': 'user',\n",
       "   'id': 'dd5d9cf3-cf62-4ac1-92e2-494fe9963b68'},\n",
       "  'last_edited_by': {'object': 'user',\n",
       "   'id': 'dd5d9cf3-cf62-4ac1-92e2-494fe9963b68'},\n",
       "  'cover': None,\n",
       "  'icon': None,\n",
       "  'parent': {'type': 'database_id',\n",
       "   'database_id': 'a6f4c95f-d341-444f-a129-790761c285ab'},\n",
       "  'archived': False,\n",
       "  'in_trash': False,\n",
       "  'properties': {'Comprado': {'id': 'rGpQ',\n",
       "    'type': 'checkbox',\n",
       "    'checkbox': False},\n",
       "   'Ingrediente': {'id': 'title',\n",
       "    'type': 'title',\n",
       "    'title': [{'type': 'text',\n",
       "      'text': {'content': 'provoleta', 'link': None},\n",
       "      'annotations': {'bold': False,\n",
       "       'italic': False,\n",
       "       'strikethrough': False,\n",
       "       'underline': False,\n",
       "       'code': False,\n",
       "       'color': 'default'},\n",
       "      'plain_text': 'provoleta',\n",
       "      'href': None}]}},\n",
       "  'url': 'https://www.notion.so/provoleta-138d75d3975241f4b3b4c822165ece43',\n",
       "  'public_url': None},\n",
       " {'object': 'page',\n",
       "  'id': 'f9f4cc4e-6b6b-4bd0-a00c-b293313b4674',\n",
       "  'created_time': '2024-05-19T20:03:00.000Z',\n",
       "  'last_edited_time': '2024-05-19T20:03:00.000Z',\n",
       "  'created_by': {'object': 'user',\n",
       "   'id': 'dd5d9cf3-cf62-4ac1-92e2-494fe9963b68'},\n",
       "  'last_edited_by': {'object': 'user',\n",
       "   'id': 'dd5d9cf3-cf62-4ac1-92e2-494fe9963b68'},\n",
       "  'cover': None,\n",
       "  'icon': None,\n",
       "  'parent': {'type': 'database_id',\n",
       "   'database_id': 'a6f4c95f-d341-444f-a129-790761c285ab'},\n",
       "  'archived': False,\n",
       "  'in_trash': False,\n",
       "  'properties': {'Comprado': {'id': 'rGpQ',\n",
       "    'type': 'checkbox',\n",
       "    'checkbox': False},\n",
       "   'Ingrediente': {'id': 'title',\n",
       "    'type': 'title',\n",
       "    'title': [{'type': 'text',\n",
       "      'text': {'content': 'Tomate frito', 'link': None},\n",
       "      'annotations': {'bold': False,\n",
       "       'italic': False,\n",
       "       'strikethrough': False,\n",
       "       'underline': False,\n",
       "       'code': False,\n",
       "       'color': 'default'},\n",
       "      'plain_text': 'Tomate frito',\n",
       "      'href': None}]}},\n",
       "  'url': 'https://www.notion.so/Tomate-frito-f9f4cc4e6b6b4bd0a00cb293313b4674',\n",
       "  'public_url': None},\n",
       " {'object': 'page',\n",
       "  'id': '2b1ee666-3bdf-4ba9-bc5d-3f410432fb97',\n",
       "  'created_time': '2024-05-19T20:03:00.000Z',\n",
       "  'last_edited_time': '2024-05-19T20:03:00.000Z',\n",
       "  'created_by': {'object': 'user',\n",
       "   'id': 'dd5d9cf3-cf62-4ac1-92e2-494fe9963b68'},\n",
       "  'last_edited_by': {'object': 'user',\n",
       "   'id': 'dd5d9cf3-cf62-4ac1-92e2-494fe9963b68'},\n",
       "  'cover': None,\n",
       "  'icon': None,\n",
       "  'parent': {'type': 'database_id',\n",
       "   'database_id': 'a6f4c95f-d341-444f-a129-790761c285ab'},\n",
       "  'archived': False,\n",
       "  'in_trash': False,\n",
       "  'properties': {'Comprado': {'id': 'rGpQ',\n",
       "    'type': 'checkbox',\n",
       "    'checkbox': False},\n",
       "   'Ingrediente': {'id': 'title',\n",
       "    'type': 'title',\n",
       "    'title': [{'type': 'text',\n",
       "      'text': {'content': 'Masa hojaldre', 'link': None},\n",
       "      'annotations': {'bold': False,\n",
       "       'italic': False,\n",
       "       'strikethrough': False,\n",
       "       'underline': False,\n",
       "       'code': False,\n",
       "       'color': 'default'},\n",
       "      'plain_text': 'Masa hojaldre',\n",
       "      'href': None}]}},\n",
       "  'url': 'https://www.notion.so/Masa-hojaldre-2b1ee6663bdf4ba9bc5d3f410432fb97',\n",
       "  'public_url': None},\n",
       " {'object': 'page',\n",
       "  'id': '161b3431-7e86-4309-bbf0-12558363567e',\n",
       "  'created_time': '2024-05-19T19:33:00.000Z',\n",
       "  'last_edited_time': '2024-05-19T19:33:00.000Z',\n",
       "  'created_by': {'object': 'user',\n",
       "   'id': 'dd5d9cf3-cf62-4ac1-92e2-494fe9963b68'},\n",
       "  'last_edited_by': {'object': 'user',\n",
       "   'id': 'dd5d9cf3-cf62-4ac1-92e2-494fe9963b68'},\n",
       "  'cover': None,\n",
       "  'icon': None,\n",
       "  'parent': {'type': 'database_id',\n",
       "   'database_id': 'a6f4c95f-d341-444f-a129-790761c285ab'},\n",
       "  'archived': False,\n",
       "  'in_trash': False,\n",
       "  'properties': {'Comprado': {'id': 'rGpQ',\n",
       "    'type': 'checkbox',\n",
       "    'checkbox': False},\n",
       "   'Ingrediente': {'id': 'title',\n",
       "    'type': 'title',\n",
       "    'title': [{'type': 'text',\n",
       "      'text': {'content': 'embutido', 'link': None},\n",
       "      'annotations': {'bold': False,\n",
       "       'italic': False,\n",
       "       'strikethrough': False,\n",
       "       'underline': False,\n",
       "       'code': False,\n",
       "       'color': 'default'},\n",
       "      'plain_text': 'embutido',\n",
       "      'href': None}]}},\n",
       "  'url': 'https://www.notion.so/embutido-161b34317e864309bbf012558363567e',\n",
       "  'public_url': None},\n",
       " {'object': 'page',\n",
       "  'id': '5b8af735-5690-41cd-b0a4-2d8859ba176c',\n",
       "  'created_time': '2024-05-19T19:24:00.000Z',\n",
       "  'last_edited_time': '2024-05-19T19:24:00.000Z',\n",
       "  'created_by': {'object': 'user',\n",
       "   'id': 'dd5d9cf3-cf62-4ac1-92e2-494fe9963b68'},\n",
       "  'last_edited_by': {'object': 'user',\n",
       "   'id': 'dd5d9cf3-cf62-4ac1-92e2-494fe9963b68'},\n",
       "  'cover': None,\n",
       "  'icon': None,\n",
       "  'parent': {'type': 'database_id',\n",
       "   'database_id': 'a6f4c95f-d341-444f-a129-790761c285ab'},\n",
       "  'archived': False,\n",
       "  'in_trash': False,\n",
       "  'properties': {'Comprado': {'id': 'rGpQ',\n",
       "    'type': 'checkbox',\n",
       "    'checkbox': False},\n",
       "   'Ingrediente': {'id': 'title',\n",
       "    'type': 'title',\n",
       "    'title': [{'type': 'text',\n",
       "      'text': {'content': 'tardes', 'link': None},\n",
       "      'annotations': {'bold': False,\n",
       "       'italic': False,\n",
       "       'strikethrough': False,\n",
       "       'underline': False,\n",
       "       'code': False,\n",
       "       'color': 'default'},\n",
       "      'plain_text': 'tardes',\n",
       "      'href': None}]}},\n",
       "  'url': 'https://www.notion.so/tardes-5b8af735569041cdb0a42d8859ba176c',\n",
       "  'public_url': None},\n",
       " {'object': 'page',\n",
       "  'id': '33f87cde-2cee-4168-970d-bfad266fa7f6',\n",
       "  'created_time': '2024-05-19T19:13:00.000Z',\n",
       "  'last_edited_time': '2024-05-19T19:13:00.000Z',\n",
       "  'created_by': {'object': 'user',\n",
       "   'id': 'dd5d9cf3-cf62-4ac1-92e2-494fe9963b68'},\n",
       "  'last_edited_by': {'object': 'user',\n",
       "   'id': 'dd5d9cf3-cf62-4ac1-92e2-494fe9963b68'},\n",
       "  'cover': None,\n",
       "  'icon': None,\n",
       "  'parent': {'type': 'database_id',\n",
       "   'database_id': 'a6f4c95f-d341-444f-a129-790761c285ab'},\n",
       "  'archived': False,\n",
       "  'in_trash': False,\n",
       "  'properties': {'Comprado': {'id': 'rGpQ',\n",
       "    'type': 'checkbox',\n",
       "    'checkbox': False},\n",
       "   'Ingrediente': {'id': 'title',\n",
       "    'type': 'title',\n",
       "    'title': [{'type': 'text',\n",
       "      'text': {'content': 'hola jaime', 'link': None},\n",
       "      'annotations': {'bold': False,\n",
       "       'italic': False,\n",
       "       'strikethrough': False,\n",
       "       'underline': False,\n",
       "       'code': False,\n",
       "       'color': 'default'},\n",
       "      'plain_text': 'hola jaime',\n",
       "      'href': None}]}},\n",
       "  'url': 'https://www.notion.so/hola-jaime-33f87cde2cee4168970dbfad266fa7f6',\n",
       "  'public_url': None}]"
      ]
     },
     "execution_count": 14,
     "metadata": {},
     "output_type": "execute_result"
    }
   ],
   "source": [
    "test"
   ]
  },
  {
   "cell_type": "code",
   "execution_count": 20,
   "metadata": {},
   "outputs": [
    {
     "name": "stdout",
     "output_type": "stream",
     "text": [
      "0bc26220-90f9-42d0-8c45-a9eb8606f10d\n",
      "200\n",
      "74110196-0b22-4746-a9b8-1c68f72dd31d\n",
      "200\n",
      "e9914613-801c-4845-8df9-eda0c397db0d\n",
      "200\n",
      "e6594a20-2685-43e4-81b6-f6e08b5abb71\n",
      "200\n"
     ]
    }
   ],
   "source": [
    "for row in test:\n",
    "    if row['properties']['Comprado']['checkbox']:\n",
    "        print(row['id'])\n",
    "        delete_page(NOTION_SECRET, row['id'])"
   ]
  },
  {
   "cell_type": "code",
   "execution_count": 37,
   "metadata": {},
   "outputs": [
    {
     "name": "stdout",
     "output_type": "stream",
     "text": [
      "200\n",
      "200\n",
      "200\n",
      "200\n",
      "200\n"
     ]
    }
   ],
   "source": [
    "data_comidas = read_data(api_secret=NOTION_SECRET, db_id=CAL_ID, dump_json=True)\n",
    "\n",
    "for page in data_comidas:\n",
    "    date_obj = page['properties']['Día']['date']\n",
    "    if not date_obj:\n",
    "        delete_page(NOTION_SECRET, page['id'])\n",
    "        continue\n",
    "\n",
    "    date_comida=datetime.strptime(date_obj['start'], \"%Y-%m-%d\")\n",
    "    if datetime.now() > date_comida:\n",
    "        delete_page(NOTION_SECRET, page['id'])\n",
    "\n",
    "            \n",
    "        "
   ]
  },
  {
   "cell_type": "code",
   "execution_count": 38,
   "metadata": {},
   "outputs": [
    {
     "name": "stdout",
     "output_type": "stream",
     "text": [
      "2024-05-23\n"
     ]
    }
   ],
   "source": [
    "print(datetime.now().date())"
   ]
  }
 ],
 "metadata": {
  "kernelspec": {
   "display_name": ".venv",
   "language": "python",
   "name": "python3"
  },
  "language_info": {
   "codemirror_mode": {
    "name": "ipython",
    "version": 3
   },
   "file_extension": ".py",
   "mimetype": "text/x-python",
   "name": "python",
   "nbconvert_exporter": "python",
   "pygments_lexer": "ipython3",
   "version": "3.11.9"
  }
 },
 "nbformat": 4,
 "nbformat_minor": 2
}
